{
 "cells": [
  {
   "cell_type": "code",
   "execution_count": 13,
   "metadata": {},
   "outputs": [],
   "source": [
    "from datasets import load_dataset\n",
    "import pandas as pd\n",
    "import torch\n",
    "import torch.nn as nn\n",
    "from torch.nn import functional as F\n",
    "import sentencepiece as spm\n",
    "from torch.nn.utils.rnn import pad_sequence"
   ]
  },
  {
   "cell_type": "code",
   "execution_count": 14,
   "metadata": {},
   "outputs": [
    {
     "name": "stderr",
     "output_type": "stream",
     "text": [
      "Found cached dataset spider (C:/Users/18327/.cache/huggingface/datasets/spider/spider/1.0.0/4e5143d825a3895451569c8b9b55432b91a4bc2d04d390376c950837f4680daa)\n"
     ]
    },
    {
     "data": {
      "application/vnd.jupyter.widget-view+json": {
       "model_id": "9039e6c2b47345b39bc3311e65ce42f5",
       "version_major": 2,
       "version_minor": 0
      },
      "text/plain": [
       "  0%|          | 0/2 [00:00<?, ?it/s]"
      ]
     },
     "metadata": {},
     "output_type": "display_data"
    }
   ],
   "source": [
    "data = load_dataset(\"spider\")"
   ]
  },
  {
   "cell_type": "code",
   "execution_count": 15,
   "metadata": {},
   "outputs": [
    {
     "data": {
      "text/html": [
       "<div>\n",
       "<style scoped>\n",
       "    .dataframe tbody tr th:only-of-type {\n",
       "        vertical-align: middle;\n",
       "    }\n",
       "\n",
       "    .dataframe tbody tr th {\n",
       "        vertical-align: top;\n",
       "    }\n",
       "\n",
       "    .dataframe thead th {\n",
       "        text-align: right;\n",
       "    }\n",
       "</style>\n",
       "<table border=\"1\" class=\"dataframe\">\n",
       "  <thead>\n",
       "    <tr style=\"text-align: right;\">\n",
       "      <th></th>\n",
       "      <th>db_id</th>\n",
       "      <th>query</th>\n",
       "      <th>question</th>\n",
       "      <th>query_toks</th>\n",
       "      <th>query_toks_no_value</th>\n",
       "      <th>question_toks</th>\n",
       "    </tr>\n",
       "  </thead>\n",
       "  <tbody>\n",
       "    <tr>\n",
       "      <th>0</th>\n",
       "      <td>department_management</td>\n",
       "      <td>SELECT count(*) FROM head WHERE age  &gt;  56</td>\n",
       "      <td>How many heads of the departments are older th...</td>\n",
       "      <td>[SELECT, count, (, *, ), FROM, head, WHERE, ag...</td>\n",
       "      <td>[select, count, (, *, ), from, head, where, ag...</td>\n",
       "      <td>[How, many, heads, of, the, departments, are, ...</td>\n",
       "    </tr>\n",
       "    <tr>\n",
       "      <th>1</th>\n",
       "      <td>department_management</td>\n",
       "      <td>SELECT name ,  born_state ,  age FROM head ORD...</td>\n",
       "      <td>List the name, born state and age of the heads...</td>\n",
       "      <td>[SELECT, name, ,, born_state, ,, age, FROM, he...</td>\n",
       "      <td>[select, name, ,, born_state, ,, age, from, he...</td>\n",
       "      <td>[List, the, name, ,, born, state, and, age, of...</td>\n",
       "    </tr>\n",
       "    <tr>\n",
       "      <th>2</th>\n",
       "      <td>department_management</td>\n",
       "      <td>SELECT creation ,  name ,  budget_in_billions ...</td>\n",
       "      <td>List the creation year, name and budget of eac...</td>\n",
       "      <td>[SELECT, creation, ,, name, ,, budget_in_billi...</td>\n",
       "      <td>[select, creation, ,, name, ,, budget_in_billi...</td>\n",
       "      <td>[List, the, creation, year, ,, name, and, budg...</td>\n",
       "    </tr>\n",
       "    <tr>\n",
       "      <th>3</th>\n",
       "      <td>department_management</td>\n",
       "      <td>SELECT max(budget_in_billions) ,  min(budget_i...</td>\n",
       "      <td>What are the maximum and minimum budget of the...</td>\n",
       "      <td>[SELECT, max, (, budget_in_billions, ), ,, min...</td>\n",
       "      <td>[select, max, (, budget_in_billions, ), ,, min...</td>\n",
       "      <td>[What, are, the, maximum, and, minimum, budget...</td>\n",
       "    </tr>\n",
       "    <tr>\n",
       "      <th>4</th>\n",
       "      <td>department_management</td>\n",
       "      <td>SELECT avg(num_employees) FROM department WHER...</td>\n",
       "      <td>What is the average number of employees of the...</td>\n",
       "      <td>[SELECT, avg, (, num_employees, ), FROM, depar...</td>\n",
       "      <td>[select, avg, (, num_employees, ), from, depar...</td>\n",
       "      <td>[What, is, the, average, number, of, employees...</td>\n",
       "    </tr>\n",
       "  </tbody>\n",
       "</table>\n",
       "</div>"
      ],
      "text/plain": [
       "                   db_id                                              query  \\\n",
       "0  department_management         SELECT count(*) FROM head WHERE age  >  56   \n",
       "1  department_management  SELECT name ,  born_state ,  age FROM head ORD...   \n",
       "2  department_management  SELECT creation ,  name ,  budget_in_billions ...   \n",
       "3  department_management  SELECT max(budget_in_billions) ,  min(budget_i...   \n",
       "4  department_management  SELECT avg(num_employees) FROM department WHER...   \n",
       "\n",
       "                                            question  \\\n",
       "0  How many heads of the departments are older th...   \n",
       "1  List the name, born state and age of the heads...   \n",
       "2  List the creation year, name and budget of eac...   \n",
       "3  What are the maximum and minimum budget of the...   \n",
       "4  What is the average number of employees of the...   \n",
       "\n",
       "                                          query_toks  \\\n",
       "0  [SELECT, count, (, *, ), FROM, head, WHERE, ag...   \n",
       "1  [SELECT, name, ,, born_state, ,, age, FROM, he...   \n",
       "2  [SELECT, creation, ,, name, ,, budget_in_billi...   \n",
       "3  [SELECT, max, (, budget_in_billions, ), ,, min...   \n",
       "4  [SELECT, avg, (, num_employees, ), FROM, depar...   \n",
       "\n",
       "                                 query_toks_no_value  \\\n",
       "0  [select, count, (, *, ), from, head, where, ag...   \n",
       "1  [select, name, ,, born_state, ,, age, from, he...   \n",
       "2  [select, creation, ,, name, ,, budget_in_billi...   \n",
       "3  [select, max, (, budget_in_billions, ), ,, min...   \n",
       "4  [select, avg, (, num_employees, ), from, depar...   \n",
       "\n",
       "                                       question_toks  \n",
       "0  [How, many, heads, of, the, departments, are, ...  \n",
       "1  [List, the, name, ,, born, state, and, age, of...  \n",
       "2  [List, the, creation, year, ,, name, and, budg...  \n",
       "3  [What, are, the, maximum, and, minimum, budget...  \n",
       "4  [What, is, the, average, number, of, employees...  "
      ]
     },
     "execution_count": 15,
     "metadata": {},
     "output_type": "execute_result"
    }
   ],
   "source": [
    "# Data Sample\n",
    "pd.DataFrame(data[\"train\"]).head()"
   ]
  },
  {
   "cell_type": "code",
   "execution_count": 16,
   "metadata": {},
   "outputs": [],
   "source": [
    "train_df = pd.DataFrame(data[\"train\"])[[\"query\", \"question\"]]\n",
    "val_df = pd.DataFrame(data[\"validation\"])[[\"query\", \"question\"]]"
   ]
  },
  {
   "cell_type": "code",
   "execution_count": 17,
   "metadata": {},
   "outputs": [],
   "source": [
    "vocab_size = 5000\n",
    "batch_size = 16 # how many independent sequences will we process in parallel?\n",
    "block_size = 350 # what is the context?\n",
    "max_iteration = 100\n",
    "eval_interval = 1\n",
    "learning_rate = 1e-3\n",
    "device = 'cuda' if torch.cuda.is_available() else 'cpu'\n",
    "# device = 'cpu'\n",
    "eval_iters = 200\n",
    "n_embd = 64\n",
    "n_head = 4\n",
    "n_layer = 4\n",
    "dropout = 0"
   ]
  },
  {
   "cell_type": "code",
   "execution_count": 18,
   "metadata": {},
   "outputs": [
    {
     "data": {
      "text/plain": [
       "'cuda'"
      ]
     },
     "execution_count": 18,
     "metadata": {},
     "output_type": "execute_result"
    }
   ],
   "source": [
    "device"
   ]
  },
  {
   "cell_type": "code",
   "execution_count": 19,
   "metadata": {},
   "outputs": [],
   "source": [
    "# pd.concat([question,query]).to_csv(r'sptrain.txt', header=None, index=None, sep=' ', mode='w')\n",
    "# spm.SentencePieceTrainer.train(f'--input=sptrain.txt --model_prefix=m --vocab_size={vocab_size}')\n",
    "\n",
    "# makes segmenter instance and loads the model file (m.model)\n",
    "sp = spm.SentencePieceProcessor()\n",
    "sp.load('m.model')\n",
    "\n",
    "encode = lambda s: sp.encode(s, out_type=int, enable_sampling=True, alpha=0.1, nbest_size=-1,)\n",
    "decode = lambda l: sp.decode(l)"
   ]
  },
  {
   "cell_type": "code",
   "execution_count": 20,
   "metadata": {},
   "outputs": [],
   "source": [
    "def get_batch(split):\n",
    "    data =  train_df if split == \"train\" else val_df\n",
    "    data = list(zip(data[\"question\"],data[\"query\"]))\n",
    "       \n",
    "    indices = torch.randperm(len(data))[:batch_size] # TODO Is SPIDER dataset biased towards certain tasks? Then this is good way to randomize.\n",
    "    \n",
    "    # Encode data in random batches.\n",
    "    x = [torch.tensor(encode(data[i][0]), dtype=torch.long) for i in indices]\n",
    "    y = [torch.tensor(encode(data[i][1]), dtype=torch.long) for i in indices]\n",
    "    \n",
    "    # Find max length between both x and y.\n",
    "    # max_len_x = max(len(row) for row in x)\n",
    "    # max_len_y = max(len(row) for row in y)\n",
    "    # max_len = max(max_len_x, max_len_y)\n",
    "    max_len = block_size\n",
    "    \n",
    "    # Use max length to equally pad zeros to both variables.\n",
    "    x = [torch.cat([row, torch.zeros(max_len - len(row), dtype=torch.long)]) for row in x]\n",
    "    y = [torch.cat([row, torch.zeros(max_len - len(row), dtype=torch.long)]) for row in y]\n",
    "    \n",
    "    # Include batch as the first dimension.\n",
    "    x = pad_sequence(x, batch_first=True)\n",
    "    y = pad_sequence(y, batch_first=True)\n",
    "    \n",
    "    x, y = x.to(device), y.to(device)\n",
    "    \n",
    "    return x, y"
   ]
  },
  {
   "cell_type": "code",
   "execution_count": 21,
   "metadata": {},
   "outputs": [],
   "source": [
    "@torch.no_grad()\n",
    "def estimate_loss():\n",
    "    out = {}\n",
    "    model.eval()\n",
    "    for split in ['train', 'val']:\n",
    "        losses = torch.zeros(eval_iters)\n",
    "        for k in range(eval_iters):\n",
    "            X, Y = get_batch(split)\n",
    "            logits, loss = model(X, Y)\n",
    "            losses[k] = loss.item()\n",
    "        out[split] = losses.mean()\n",
    "    model.train()\n",
    "    return out"
   ]
  },
  {
   "cell_type": "code",
   "execution_count": 24,
   "metadata": {},
   "outputs": [],
   "source": [
    "class Head(nn.Module):\n",
    "    \"\"\" one head of self-attention \"\"\"\n",
    "\n",
    "    def __init__(self, head_size):\n",
    "        super().__init__()\n",
    "        self.key = nn.Linear(n_embd, head_size, bias=False)\n",
    "        self.query = nn.Linear(n_embd, head_size, bias=False)\n",
    "        self.value = nn.Linear(n_embd, head_size, bias=False)\n",
    "        self.register_buffer('tril', torch.tril(torch.ones(block_size, block_size)))\n",
    "\n",
    "        self.dropout = nn.Dropout(dropout)\n",
    "\n",
    "    def forward(self, x):\n",
    "        B,T,C = x.shape\n",
    "        k = self.key(x)   # (B,T,C)\n",
    "        q = self.query(x) # (B,T,C)\n",
    "        # compute attention scores (\"affinities\")\n",
    "        wei = q @ k.transpose(-2,-1) * C**-0.5 # (B, T, C) @ (B, C, T) -> (B, T, T)\n",
    "        wei = wei.masked_fill(self.tril[:T, :T] == 0, float('-inf')) # (B, T, T)\n",
    "        wei = F.softmax(wei, dim=-1) # (B, T, T)\n",
    "        wei = self.dropout(wei)\n",
    "        # perform the weighted aggregation of the values\n",
    "        v = self.value(x) # (B,T,C)\n",
    "        out = wei @ v # (B, T, T) @ (B, T, C) -> (B, T, C)\n",
    "        return out\n",
    "\n",
    "class MultiHeadAttention(nn.Module):\n",
    "    \"\"\" multiple heads of self-attention in parallel \"\"\"\n",
    "\n",
    "    def __init__(self, num_heads, head_size):\n",
    "        super().__init__()\n",
    "        self.heads = nn.ModuleList([Head(head_size) for _ in range(num_heads)])\n",
    "        self.proj = nn.Linear(n_embd, n_embd)\n",
    "        self.dropout = nn.Dropout(dropout)\n",
    "\n",
    "    def forward(self, x):\n",
    "        out = torch.cat([h(x) for h in self.heads], dim=-1)\n",
    "        out = self.dropout(self.proj(out))\n",
    "        return out\n",
    "\n",
    "class FeedFoward(nn.Module):\n",
    "    \"\"\" a simple linear layer followed by a non-linearity \"\"\"\n",
    "\n",
    "    def __init__(self, n_embd):\n",
    "        super().__init__()\n",
    "        self.net = nn.Sequential(\n",
    "            nn.Linear(n_embd, 4 * n_embd),\n",
    "            nn.ReLU(),\n",
    "            nn.Linear(4 * n_embd, n_embd),\n",
    "            nn.Dropout(dropout),\n",
    "        )\n",
    "\n",
    "    def forward(self, x):\n",
    "        return self.net(x)\n",
    "\n",
    "class Block(nn.Module):\n",
    "    \"\"\" Transformer block: communication followed by computation \"\"\"\n",
    "\n",
    "    def __init__(self, n_embd, n_head):\n",
    "        # n_embd: embedding dimension, n_head: the number of heads we'd like\n",
    "        super().__init__()\n",
    "        head_size = n_embd // n_head\n",
    "        self.sa = MultiHeadAttention(n_head, head_size)\n",
    "        self.ffwd = FeedFoward(n_embd)\n",
    "        self.ln1 = nn.LayerNorm(n_embd)\n",
    "        self.ln2 = nn.LayerNorm(n_embd)\n",
    "\n",
    "    def forward(self, x):\n",
    "        x = x + self.sa(self.ln1(x))\n",
    "        x = x + self.ffwd(self.ln2(x))\n",
    "        return x"
   ]
  },
  {
   "cell_type": "code",
   "execution_count": 25,
   "metadata": {},
   "outputs": [],
   "source": [
    "# super simple bigram model\n",
    "class SQLTModel(nn.Module):\n",
    "\n",
    "    def __init__(self):\n",
    "        super().__init__()\n",
    "        # each token directly reads off the logits for the next token from a lookup table\n",
    "        self.token_embedding_table = nn.Embedding(vocab_size, n_embd)\n",
    "        self.position_embedding_table = nn.Embedding(block_size, n_embd)\n",
    "        self.blocks = nn.Sequential(*[Block(n_embd, n_head=n_head) for _ in range(n_layer)])\n",
    "        self.ln_f = nn.LayerNorm(n_embd) # final layer norm\n",
    "        self.lm_head = nn.Linear(n_embd, vocab_size)\n",
    "\n",
    "    def forward(self, idx, targets=None):\n",
    "        B, T = idx.shape\n",
    "\n",
    "        # idx and targets are both (B,T) tensor of integers\n",
    "        tok_emb = self.token_embedding_table(idx) # (B,T,C)\n",
    "        pos_emb = self.position_embedding_table(torch.arange(T, device=device)) # (T,C)\n",
    "        x = tok_emb + pos_emb # (B,T,C)\n",
    "        x = self.blocks(x) # (B,T,C)\n",
    "        x = self.ln_f(x) # (B,T,C)\n",
    "        logits = self.lm_head(x) # (B,T,vocab_size)\n",
    "\n",
    "        if targets is None:\n",
    "            loss = None\n",
    "        else:\n",
    "            B, T, C = logits.shape\n",
    "            logits = logits.view(B*T, C)\n",
    "            targets = targets.view(B*T)\n",
    "            loss = F.cross_entropy(logits, targets)\n",
    "\n",
    "        return logits, loss\n",
    "\n",
    "    def generate(self, idx, max_new_tokens):\n",
    "        # idx is (B, T) array of indices in the current context\n",
    "        for _ in range(max_new_tokens):\n",
    "            # crop idx to the last block_size tokens\n",
    "            idx_cond = idx[:, -block_size:]\n",
    "            # get the predictions\n",
    "            logits, loss = self(idx_cond)\n",
    "            # focus only on the last time step\n",
    "            logits = logits[:, -1, :] # becomes (B, C)\n",
    "            # apply softmax to get probabilities\n",
    "            probs = F.softmax(logits, dim=-1) # (B, C)\n",
    "            # sample from the distribution\n",
    "            idx_next = torch.multinomial(probs, num_samples=1) # (B, 1)\n",
    "            # append sampled index to the running sequence\n",
    "            idx = torch.cat((idx, idx_next), dim=1) # (B, T+1)\n",
    "\n",
    "        return idx\n",
    "\n"
   ]
  },
  {
   "cell_type": "code",
   "execution_count": 26,
   "metadata": {},
   "outputs": [
    {
     "name": "stdout",
     "output_type": "stream",
     "text": [
      "0.866696 M parameters\n"
     ]
    }
   ],
   "source": [
    "model_state_dict = torch.load('model.pt')\n",
    "model = SQLTModel()\n",
    "model.load_state_dict(model_state_dict)\n",
    "\n",
    "m = model.to(device)\n",
    "# print the number of parameters in the model\n",
    "print(sum(p.numel() for p in m.parameters())/1e6, 'M parameters')"
   ]
  },
  {
   "cell_type": "code",
   "execution_count": 27,
   "metadata": {},
   "outputs": [],
   "source": [
    "# create a PyTorch optimizer\n",
    "optimizer = torch.optim.AdamW(model.parameters(), lr=learning_rate)"
   ]
  },
  {
   "cell_type": "code",
   "execution_count": 34,
   "metadata": {},
   "outputs": [
    {
     "name": "stdout",
     "output_type": "stream",
     "text": [
      "step 0: train loss 0.9726, val loss 1.0723\n",
      "step 1: train loss 1.0089, val loss 1.0811\n",
      "step 2: train loss 1.0191, val loss 1.0826\n",
      "step 3: train loss 0.9931, val loss 1.0651\n",
      "step 4: train loss 1.0136, val loss 1.0688\n",
      "step 5: train loss 0.9856, val loss 1.0678\n",
      "step 6: train loss 0.9778, val loss 1.0638\n",
      "step 7: train loss 0.9927, val loss 1.0617\n",
      "step 8: train loss 0.9820, val loss 1.0570\n",
      "step 9: train loss 0.9833, val loss 1.0491\n",
      "step 10: train loss 0.9856, val loss 1.0756\n",
      "step 11: train loss 0.9687, val loss 1.0535\n",
      "step 12: train loss 0.9840, val loss 1.0542\n",
      "step 13: train loss 0.9847, val loss 1.0523\n",
      "step 14: train loss 0.9790, val loss 1.0444\n",
      "step 15: train loss 0.9694, val loss 1.0653\n",
      "step 16: train loss 0.9730, val loss 1.0753\n",
      "step 17: train loss 0.9962, val loss 1.0528\n",
      "step 18: train loss 0.9816, val loss 1.0535\n",
      "step 19: train loss 0.9893, val loss 1.0643\n"
     ]
    }
   ],
   "source": [
    "max_iteration = 20\n",
    "for iter in range(max_iteration):\n",
    "\n",
    "    # every once in a while evaluate the loss on train and val sets\n",
    "    if iter % eval_interval == 0 or iter == max_iteration - 1:\n",
    "        losses = estimate_loss()\n",
    "        print(f\"step {iter}: train loss {losses['train']:.4f}, val loss {losses['val']:.4f}\")\n",
    "\n",
    "    # sample a batch of data\n",
    "    xb, yb = get_batch('train')\n",
    "\n",
    "    # evaluate the loss\n",
    "    logits, loss = model(xb, yb)\n",
    "    optimizer.zero_grad(set_to_none=True)\n",
    "    loss.backward()\n",
    "    optimizer.step()\n",
    "    \n",
    "torch.save(m.state_dict(), 'model.pt')"
   ]
  },
  {
   "cell_type": "code",
   "execution_count": 160,
   "metadata": {},
   "outputs": [],
   "source": [
    "torch.save(m.state_dict(), 'model.pt')"
   ]
  },
  {
   "cell_type": "code",
   "execution_count": 28,
   "metadata": {},
   "outputs": [
    {
     "data": {
      "text/plain": [
       "'Return the name and job title of the staff with the latest date assigned.'"
      ]
     },
     "execution_count": 28,
     "metadata": {},
     "output_type": "execute_result"
    }
   ],
   "source": [
    "context = torch.tensor([[   3, 1855,   21, 3831,  122,    7,   44,   36,  303,    3,   21, 2463,\n",
    "        1879,    3,  161,    3,   21, 1610,    3,   62,   21,  381,  302,  302,\n",
    "           3,  679,    3,   21, 1610, 4881,  350,  144,  712,  170]], dtype=torch.long, device=device)\n",
    "decode(context.squeeze().tolist())"
   ]
  },
  {
   "cell_type": "code",
   "execution_count": 29,
   "metadata": {},
   "outputs": [],
   "source": [
    "context = encode(\"What is the headcount of human resources department?\")\n",
    "context = torch.tensor([context], dtype=torch.long, device=device)"
   ]
  },
  {
   "cell_type": "code",
   "execution_count": 35,
   "metadata": {},
   "outputs": [
    {
     "name": "stdout",
     "output_type": "stream",
     "text": [
      "What is the headcount of human resources department? ⁇ p ⁇  client B ORDER J ⁇ i ⁇ T ER RO AS2 F AS YEARY A RussiayOphysicianN,LgJ ⁇  ⁇ _entLeYo= match. ⁇  ⁇ code  T=scholarshipOI TidON_Tdee( count urNt SHE cr_tee , F ⁇  JuniorSS c2ID ⁇  ⁇ H ⁇ 2CL ⁇  ⁇  ⁇ r BS ⁇  ⁇  ⁇  ⁇ =AL\n"
     ]
    }
   ],
   "source": [
    "# generate from the model\n",
    "output = m.generate(context, max_new_tokens=100)\n",
    "print(decode(output.squeeze().tolist()))"
   ]
  },
  {
   "cell_type": "code",
   "execution_count": 177,
   "metadata": {},
   "outputs": [
    {
     "data": {
      "text/plain": [
       "tensor([[   3,  272, 1423,   74,    3,  519,   62,   31, 1610,    3, 1974, 1613,\n",
       "         1029,  122,   21,    3,  161, 2006, 2768,  381,  122, 3681,  226, 2046,\n",
       "         4546, 3136,  369, 4037,   21, 4463,   28,   18,   38,  547,    0,  107,\n",
       "            3,  180,   21,   17,   24,    5, 4051,    0,    3,   35,   30,   14,\n",
       "            3, 1029,    5,   87,    0,    0,   13,    0,  600,   92,   22,   19,\n",
       "            4,    0,    0,    5,    0,    3,   26,    0,    0,    3,    5,  293,\n",
       "           30,    0,    4,  381,  340, 1577,    0,    0, 4940,    3,   26,  411,\n",
       "            0,    4,   34,  111,    3,    0,    0,    0,  150,   34,   25,  519,\n",
       "          111,   18,    0,   20,    0,    0,  146,    0,    0,    3,   17,    4,\n",
       "           20,    9,    0,    3,    3,    4,    0,    5,  107,    3,   12,  411,\n",
       "           10,   29,    3,  122,    0,   15,  676,  129,    4,   87,    0]],\n",
       "       device='cuda:0')"
      ]
     },
     "execution_count": 177,
     "metadata": {},
     "output_type": "execute_result"
    }
   ],
   "source": [
    "output"
   ]
  }
 ],
 "metadata": {
  "kernelspec": {
   "display_name": "Python 3",
   "language": "python",
   "name": "python3"
  },
  "language_info": {
   "codemirror_mode": {
    "name": "ipython",
    "version": 3
   },
   "file_extension": ".py",
   "mimetype": "text/x-python",
   "name": "python",
   "nbconvert_exporter": "python",
   "pygments_lexer": "ipython3",
   "version": "3.10.1"
  },
  "orig_nbformat": 4
 },
 "nbformat": 4,
 "nbformat_minor": 2
}
